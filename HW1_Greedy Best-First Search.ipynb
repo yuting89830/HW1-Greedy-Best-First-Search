{
 "cells": [
  {
   "cell_type": "code",
   "execution_count": 9,
   "metadata": {
    "colab": {
     "base_uri": "https://localhost:8080/"
    },
    "id": "b0OHvotS6TWN",
    "outputId": "56f1eea1-f4b1-4eb0-db84-0821e6ac2869",
    "scrolled": true
   },
   "outputs": [
    {
     "name": "stdout",
     "output_type": "stream",
     "text": [
      "Path from Arad to Bucharest: ['Arad', 'Sibiu', 'Fagaras', 'Bucharest']\n"
     ]
    }
   ],
   "source": [
    "import heapq\n",
    "\n",
    "# 節點類別，用於儲存當前狀態\n",
    "class Node:\n",
    "    def __init__(self, city, heuristic, parent=None):\n",
    "        self.city = city  # 當前城市\n",
    "        self.heuristic = heuristic  # 啟發函數的值（到達 Bucharest 的直線距離）\n",
    "        self.parent = parent  # 父節點\n",
    "\n",
    "    def __lt__(self, other):\n",
    "        return self.heuristic < other.heuristic  # 比較啟發函數值，選擇 h 值最小的節點\n",
    "\n",
    "# 啟發函數，根據給定城市返回到 Bucharest 的直線距離\n",
    "heuristics = {\n",
    "    'Arad': 366, 'Bucharest': 0, 'Craiova': 160, 'Dobreta': 242, 'Eforie': 161,\n",
    "    'Fagaras': 176, 'Giurgiu': 77, 'Hirsova': 151, 'Iasi': 226, 'Lugoj': 244,\n",
    "    'Mehadia': 241, 'Neamt': 234, 'Oradea': 380, 'Pitesti': 100, 'Rimnicu Vilcea': 193,\n",
    "    'Sibiu': 253, 'Timisoara': 329, 'Urziceni': 80, 'Vaslui': 199, 'Zerind': 374\n",
    "}\n",
    "\n",
    "# 城市之間的連接與直線距離\n",
    "graph = {\n",
    "    'Arad': [('Zerind', 75), ('Timisoara', 118), ('Sibiu', 140)],\n",
    "    'Zerind': [('Arad', 75), ('Oradea', 71)],\n",
    "    'Oradea': [('Zerind', 71), ('Sibiu', 151)],\n",
    "    'Sibiu': [('Arad', 140), ('Oradea', 151), ('Fagaras', 99), ('Rimnicu Vilcea', 80)],\n",
    "    'Timisoara': [('Arad', 118), ('Lugoj', 111)],\n",
    "    'Lugoj': [('Timisoara', 111), ('Mehadia', 70)],\n",
    "    'Mehadia': [('Lugoj', 70), ('Dobreta', 75)],\n",
    "    'Dobreta': [('Mehadia', 75), ('Craiova', 120)],\n",
    "    'Craiova': [('Dobreta', 120), ('Pitesti', 138), ('Rimnicu Vilcea', 146)],\n",
    "    'Rimnicu Vilcea': [('Sibiu', 80), ('Craiova', 146), ('Pitesti', 97)],\n",
    "    'Pitesti': [('Rimnicu Vilcea', 97), ('Craiova', 138), ('Bucharest', 101)],\n",
    "    'Fagaras': [('Sibiu', 99), ('Bucharest', 211)],\n",
    "    'Bucharest': [('Fagaras', 211), ('Pitesti', 101), ('Giurgiu', 90), ('Urziceni', 85)],\n",
    "    'Giurgiu': [('Bucharest', 90)],\n",
    "    'Urziceni': [('Bucharest', 85), ('Hirsova', 98), ('Vaslui', 142)],\n",
    "    'Hirsova': [('Urziceni', 98), ('Eforie', 86)],\n",
    "    'Eforie': [('Hirsova', 86)],\n",
    "    'Vaslui': [('Urziceni', 142), ('Iasi', 92)],\n",
    "    'Iasi': [('Vaslui', 92), ('Neamt', 87)],\n",
    "    'Neamt': [('Iasi', 87)]\n",
    "}\n",
    "\n",
    "# 重建從起點到終點的路徑\n",
    "def reconstruct_path(node):\n",
    "    path = []\n",
    "    while node is not None:\n",
    "        path.append(node.city)\n",
    "        node = node.parent\n",
    "    return path[::-1]  # 反轉路徑，從起點到終點\n",
    "\n",
    "# Greedy Best-First Search 演算法\n",
    "def greedy_best_first_search(start, goal):\n",
    "  # TODO: Reconstruct the path using function of reconstruct_path()\n",
    "    open_list = []\n",
    "    start_node = Node(start, heuristics[start])\n",
    "    heapq.heappush(open_list, start_node)\n",
    "\n",
    "    # 存擴展過的節點的list\n",
    "    closed_list = set()\n",
    "\n",
    "    while open_list:\n",
    "        # 取出啟發式值最小的node\n",
    "        current_node = heapq.heappop(open_list)\n",
    "        \n",
    "        # 檢查是否到達目標\n",
    "        if current_node.city == goal:\n",
    "            return reconstruct_path(current_node)\n",
    "\n",
    "        # 將當前節點加入closed_list\n",
    "        closed_list.add(current_node.city)\n",
    "\n",
    "        # 遍歷當前節點的neighbor\n",
    "        for neighbor, _ in graph[current_node.city]:\n",
    "            if neighbor not in closed_list:\n",
    "                neighbor_node = Node(neighbor, heuristics[neighbor], current_node)\n",
    "                heapq.heappush(open_list, neighbor_node)\n",
    "    return None\n",
    "\n",
    "# 從Arad到Bucharest的路徑\n",
    "path = greedy_best_first_search('Arad', 'Bucharest')\n",
    "print(\"Path from Arad to Bucharest:\", path)"
   ]
  },
  {
   "cell_type": "code",
   "execution_count": 10,
   "metadata": {},
   "outputs": [
    {
     "name": "stdout",
     "output_type": "stream",
     "text": [
      "Path from Oradea to Bucharest: ['Oradea', 'Sibiu', 'Fagaras', 'Bucharest']\n"
     ]
    }
   ],
   "source": [
    "# 從Oradea到Bucharest的路徑\n",
    "path = greedy_best_first_search('Oradea', 'Bucharest')\n",
    "print(\"Path from Oradea to Bucharest:\", path)"
   ]
  },
  {
   "cell_type": "code",
   "execution_count": 11,
   "metadata": {
    "colab": {
     "base_uri": "https://localhost:8080/"
    },
    "id": "Y1joD_ee7Oms",
    "outputId": "baef55c6-8b9b-4d02-f2b8-469c24927cbc"
   },
   "outputs": [
    {
     "name": "stdout",
     "output_type": "stream",
     "text": [
      "Path from Mehadia to Bucharest: ['Mehadia', 'Dobreta', 'Craiova', 'Pitesti', 'Bucharest']\n"
     ]
    }
   ],
   "source": [
    "# 從Mehadia到Bucharest的路徑\n",
    "path = greedy_best_first_search('Mehadia', 'Bucharest')\n",
    "print(\"Path from Mehadia to Bucharest:\", path)"
   ]
  }
 ],
 "metadata": {
  "colab": {
   "provenance": [],
   "toc_visible": true
  },
  "kernelspec": {
   "display_name": "Python 3 (ipykernel)",
   "language": "python",
   "name": "python3"
  },
  "language_info": {
   "codemirror_mode": {
    "name": "ipython",
    "version": 3
   },
   "file_extension": ".py",
   "mimetype": "text/x-python",
   "name": "python",
   "nbconvert_exporter": "python",
   "pygments_lexer": "ipython3",
   "version": "3.10.12"
  }
 },
 "nbformat": 4,
 "nbformat_minor": 1
}
